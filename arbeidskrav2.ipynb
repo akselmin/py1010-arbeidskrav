{
 "cells": [
  {
   "cell_type": "markdown",
   "metadata": {},
   "source": [
    "# Arbeidskrav 2 PY1010"
   ]
  },
  {
   "cell_type": "markdown",
   "metadata": {},
   "source": [
    "## Oppgave 1"
   ]
  },
  {
   "cell_type": "code",
   "execution_count": null,
   "metadata": {},
   "outputs": [],
   "source": [
    "# Henter pakken datetime for å dynamisk hente inneværende år\n",
    "from datetime import date\n",
    "\n",
    "alder = int(input('Hvilket år er du født? '))\n",
    "\n",
    "# Finner inneværende år\n",
    "innevaerende_aar = date.today().year\n",
    "\n",
    "# Benytter f-string for å printe tekst og beregne hvor gammel man blir i løpet av inneværende år\n",
    "print(f'I løpet av {innevaerende_aar} fyller du {innevaerende_aar-alder} år! Hurra! ')"
   ]
  },
  {
   "cell_type": "markdown",
   "metadata": {},
   "source": [
    "## Oppgave 2"
   ]
  },
  {
   "cell_type": "code",
   "execution_count": null,
   "metadata": {},
   "outputs": [],
   "source": [
    "# Henter ceil fra math for å kunne runde av oppover. Henter Fraction fra fractions for å skrive ut overskytende pizza som brøk.\n",
    "from math import ceil\n",
    "from fractions import Fraction\n",
    "\n",
    "# Input for antall elever\n",
    "antall_elever = int(input('Skiv inn antall elever: '))\n",
    "\n",
    "# Definisjonen av hvor mye pizza hver elev spiser\n",
    "porsjon = (1/4)\n",
    "\n",
    "# Utregning av antall pizza som må kjøpes inn\n",
    "antall_pizza = ceil(antall_elever * porsjon)\n",
    "\n",
    "# Beregner hvor mye pizza det blir til overs og gjør svaret om til en brøk\n",
    "rest = Fraction(ceil(antall_elever * porsjon) - (antall_elever * porsjon)).limit_denominator()\n",
    "\n",
    "# Utskrift til skjerm\n",
    "print(f'Det må kjøpes inn {antall_pizza} pizza. Med {antall_elever} elever vil det bli {rest} pizza til overs.')"
   ]
  },
  {
   "cell_type": "markdown",
   "metadata": {},
   "source": [
    "## Oppgave 3"
   ]
  },
  {
   "cell_type": "code",
   "execution_count": null,
   "metadata": {},
   "outputs": [],
   "source": [
    "import numpy as np\n",
    "\n",
    "# Funksjonen grader_til_radianer har en input-parameter, v_grad.Funksjonen\n",
    "def grader_til_radianer(v_grad):\n",
    "    '''\n",
    "    Konverterer fra grader til radianer og skriver ut resultatet til skjerm.\n",
    "      \n",
    "    Parametre:\n",
    "        v_grad: Vinkelmål i grader\n",
    "    \n",
    "    Returnerer: Skriver resultatet til skjerm, 2 desimaler. Ingen returverdi.\n",
    "    '''\n",
    "    v_rad = v_grad*np.pi/180\n",
    "    print(f'{v_grad:.2f}° tilsvarer {v_rad:.2f} radianer.')\n",
    "\n",
    "# Ber brukeren om input  \n",
    "v_grad_input = float(input('Skriv inn gradtallet:' ))\n",
    "\n",
    "# Kaller funksjonen med v_grad_input som input-parameter\n",
    "grader_til_radianer(v_grad_input)"
   ]
  },
  {
   "cell_type": "markdown",
   "metadata": {},
   "source": [
    "## Oppgave 4"
   ]
  },
  {
   "cell_type": "code",
   "execution_count": null,
   "metadata": {},
   "outputs": [],
   "source": [
    "# Dictionary med land som keys. Hvert land (key) har en list som verdi. Listen inneholder Hovedstad og antall innbyggere\n",
    "data = {\"Norge\": [\"Oslo\", 0.634],\n",
    "        \"England\": [\"London\", 8.982],\n",
    "        \"Frankrike\": [\"Paris\", 2.161],\n",
    "        \"Italia\": [\"Roma\", 2.873]\n",
    "        }\n",
    "\n",
    "while True:\n",
    "    # Spør brukeren om hvilket land han ønsker å se informasjon om.\n",
    "    land = input('Hvilket land ønsker du å vite mer om? (\"stopp\" for å avslutte): ')\n",
    "\n",
    "    # Undersøker om landet fins i dictionary. Dersom det gjør det så opprettes det en variabel for hvoedstad og en for innbyggere.\n",
    "    # Resultatet skrives til skjerm.\n",
    "    if land in data:\n",
    "        hovedstad = data[land][0]\n",
    "        innbyggere = data[land][1]\n",
    "\n",
    "        print(f'{hovedstad} er hovedstaden i {land} og det er {innbyggere} millioner innbyggere i {hovedstad}')\n",
    "\n",
    "    # Dersom brukeren skriver 'stopp' så avbrytes programmet\n",
    "    elif land.lower() == 'stopp':\n",
    "        break\n",
    "    \n",
    "    # Dersom landet som brukeren skriver ikke fins i dictionary får brukeren spørsmål om han ønsker å legge det til\n",
    "    else:\n",
    "        s = input(f'Finner ikke {land} i oversikten. Ønsker du å legge det til (J/N)?: ')\n",
    "        \n",
    "        # Hvis brukeren ikke ønsker å legge til landet skrives en beskjed til skjerm og programmet fortsetter\n",
    "        if s.lower() == 'n':\n",
    "            print('Det er greit.')\n",
    "            continue\n",
    "        \n",
    "        # Hvis brukeren ønsker å legge til landet får han spørsmål om hovedstad og antall innbyggere\n",
    "        else:\n",
    "            hovedstad = input(f'Hva er hovedstaden i {land}?: ')\n",
    "            innbyggere = float(input(f'Hvor mange innbyggere er det i {hovedstad}?: '))\n",
    "            data[land] = [hovedstad, innbyggere]\n",
    "\n",
    "            # Resultatet skrives til skjerm.\n",
    "            print('Oppdatert dictionary over land er som følger: ')\n",
    "            print(data)\n"
   ]
  },
  {
   "cell_type": "markdown",
   "metadata": {},
   "source": [
    "## Oppgave 5"
   ]
  },
  {
   "cell_type": "code",
   "execution_count": 1,
   "metadata": {},
   "outputs": [
    {
     "name": "stdout",
     "output_type": "stream",
     "text": [
      "Arealet av figuren er 5.57 og den ytre omkretsen er 14.76\n"
     ]
    }
   ],
   "source": [
    "import math\n",
    "\n",
    "def figur_data(a, b):\n",
    "    # Areal og omkrets for trekant\n",
    "    c = math.sqrt((a ** 2) + (b ** 2))\n",
    "    areal_trekant = (a * b) / 2\n",
    "    omkrets_trekant_del = c + b\n",
    "\n",
    "    # Areal og omkrets for  halvsirkelen \n",
    "    areal_halvsirkel = (math.pi*((a/2) ** 2))/2\n",
    "    omkrets_halvsirkel_del = 2 * math.pi * (a/2) # Tar ikke med lengden på den rette siden\n",
    "\n",
    "    # Samlet areal og omkrets for figuren\n",
    "    areal = areal_trekant + areal_halvsirkel\n",
    "    omkrets = omkrets_trekant_del + omkrets_halvsirkel_del\n",
    "\n",
    "    # Skriver ut resultatet til skjerm med 2 desimaler.\n",
    "    print(f'Arealet av figuren er {areal:.2f} og den ytre omkretsen er {omkrets:.2f}')\n",
    "\n",
    "# Spør brukeren og lengden på a og b\n",
    "a = int(input('Hva er lengden på a?: '))\n",
    "b = int(input('Hva er lengden på b?: '))\n",
    "\n",
    "# Benytter a og b som input-parametre i funksjonen \n",
    "figur_data(a,b)"
   ]
  },
  {
   "cell_type": "markdown",
   "metadata": {},
   "source": [
    "## Oppgave 6"
   ]
  },
  {
   "cell_type": "code",
   "execution_count": 2,
   "metadata": {},
   "outputs": [
    {
     "data": {
      "image/png": "[encoded data removed]",
      "text/plain": [
       "<Figure size 640x480 with 1 Axes>"
      ]
     },
     "metadata": {},
     "output_type": "display_data"
    }
   ],
   "source": [
    "import numpy as np\n",
    "from matplotlib import pyplot as plt\n",
    "\n",
    "def f(x):\n",
    "    return -(x ** 2) - 5\n",
    "\n",
    "# Genererer 200 punkter mellom -10 og 10\n",
    "x = np.linspace(-10, 10, 200)\n",
    "\n",
    "# Plotter funksjonen. Linjefarge er rød.\n",
    "linje = plt.plot(x, f(x), color='red')\n",
    "\n",
    "# Labels for x- og y-aksen\n",
    "plt.ylabel('f(x)')\n",
    "plt.xlabel('x')\n",
    "\n",
    "# Viser rutenett\n",
    "plt.grid(True)\n",
    "\n",
    "# Viser grafen\n",
    "plt.show()"
   ]
  }
 ],
 "metadata": {
  "kernelspec": {
   "display_name": "py1010",
   "language": "python",
   "name": "python3"
  },
  "language_info": {
   "codemirror_mode": {
    "name": "ipython",
    "version": 3
   },
   "file_extension": ".py",
   "mimetype": "text/x-python",
   "name": "python",
   "nbconvert_exporter": "python",
   "pygments_lexer": "ipython3",
   "version": "3.13.1"
  }
 },
 "nbformat": 4,
 "nbformat_minor": 2
}
